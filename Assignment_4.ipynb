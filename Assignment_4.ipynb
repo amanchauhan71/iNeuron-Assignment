{
 "cells": [
  {
   "cell_type": "markdown",
   "metadata": {},
   "source": [
    "# iNeuron"
   ]
  },
  {
   "cell_type": "markdown",
   "metadata": {},
   "source": [
    "# Assignment 4"
   ]
  },
  {
   "cell_type": "markdown",
   "metadata": {},
   "source": [
    "Q.1 Write a Python Program(with class concepts) to find the area of the triangle using the below\n",
    "formula.\n",
    "area = (s*(s-a)*(s-b)*(s-c)) ** 0.5\n",
    "Function to take the length of the sides of triangle from user should be defined in the parent\n",
    "class and function to calculate the area should be defined in subclass."
   ]
  },
  {
   "cell_type": "code",
   "execution_count": 14,
   "metadata": {},
   "outputs": [
    {
     "name": "stdout",
     "output_type": "stream",
     "text": [
      "Please enter the first side of triangle:12\n",
      "Please enter the second side of triangle:12\n",
      "Please enter the third side of triangle:12\n",
      "The Area of triangle is : 62.35\n"
     ]
    }
   ],
   "source": [
    "class Area:\n",
    "    \n",
    "    def __init__(self):\n",
    "        self.a = float(input(\"Please enter the first side of triangle:\"))\n",
    "        self.b = float(input(\"Please enter the second side of triangle:\"))\n",
    "        self.c = float(input(\"Please enter the third side of triangle:\"))\n",
    "        \n",
    "        self.semiPerimeter()\n",
    "        \n",
    "    def semiPerimeter(self):\n",
    "        self.s = (self.a + self.b + self.c)/2\n",
    "       \n",
    "        \n",
    "class Formula(Area):\n",
    "    \n",
    "    def __init__(self):\n",
    "        Area.__init__(self)\n",
    "        \n",
    "    def calculateArea(self):\n",
    "        area = (self.s*(self.s-self.a)*(self.s-self.b)*(self.s-self.c)) ** 0.5\n",
    "        \n",
    "        print(f\"The Area of triangle is : {round(area,2)}\")\n",
    "        \n",
    "    \n",
    "calculate_area = Formula()\n",
    "calculate_area.calculateArea()\n",
    "\n",
    "        "
   ]
  },
  {
   "cell_type": "markdown",
   "metadata": {},
   "source": [
    "Q.1.2 Write a function filter_long_words() that takes a list of words and an integer n and returns\n",
    "the list of words that are longer than n."
   ]
  },
  {
   "cell_type": "code",
   "execution_count": 18,
   "metadata": {},
   "outputs": [
    {
     "name": "stdout",
     "output_type": "stream",
     "text": [
      "Please input the list of words: aman chauhan\n",
      "Please input an integer: 5\n"
     ]
    },
    {
     "data": {
      "text/plain": [
       "['chauhan']"
      ]
     },
     "execution_count": 18,
     "metadata": {},
     "output_type": "execute_result"
    }
   ],
   "source": [
    "def filterlongword(string,number):\n",
    "    return [word for word in string if len(word) > number]\n",
    "\n",
    "words = input(\"Please input the list of words: \").split()\n",
    "numbers = int(input(\"Please input an integer: \"))\n",
    "filterlongword(words,numbers)"
   ]
  },
  {
   "cell_type": "markdown",
   "metadata": {},
   "source": [
    "Q.2.1 Write a Python program using function concept that maps list of words into a list of integers\n",
    "representing the lengths of the corresponding words.\n",
    "Hint: If a list [ ab,cde,erty] is passed on to the python function output should come as [2,3,4]\n",
    "Here 2,3 and 4 are the lengths of the words in the list."
   ]
  },
  {
   "cell_type": "code",
   "execution_count": 21,
   "metadata": {},
   "outputs": [
    {
     "data": {
      "text/plain": [
       "[2, 3, 4]"
      ]
     },
     "execution_count": 21,
     "metadata": {},
     "output_type": "execute_result"
    }
   ],
   "source": [
    "words_lst = ['ab','cde','erty']\n",
    "\n",
    "list(map(lambda words_lst : len(words_lst),words_lst))\n",
    "        "
   ]
  },
  {
   "cell_type": "markdown",
   "metadata": {},
   "source": [
    "Q.2.2 Write a Python function which takes a character (i.e. a string of length 1) and returns True if\n",
    "it is a vowel, False otherwise."
   ]
  },
  {
   "cell_type": "code",
   "execution_count": 35,
   "metadata": {},
   "outputs": [
    {
     "name": "stdout",
     "output_type": "stream",
     "text": [
      "Enter the character to check vowel or not :a\n",
      "True\n"
     ]
    }
   ],
   "source": [
    "def vowel(ch):\n",
    "    \n",
    "    letter = ['a','e','i','o','u','A','E','I','O','U']\n",
    "    \n",
    "    if ch  in letter :\n",
    "        return True\n",
    "    else:\n",
    "        return False\n",
    "\n",
    "ch=input(\"Enter the character to check vowel or not :\") \n",
    "output = map(vowel,ch)\n",
    "\n",
    "for i in output:\n",
    "    print(i)\n",
    "\n",
    "    "
   ]
  },
  {
   "cell_type": "code",
   "execution_count": null,
   "metadata": {},
   "outputs": [],
   "source": []
  }
 ],
 "metadata": {
  "kernelspec": {
   "display_name": "Python 3",
   "language": "python",
   "name": "python3"
  },
  "language_info": {
   "codemirror_mode": {
    "name": "ipython",
    "version": 3
   },
   "file_extension": ".py",
   "mimetype": "text/x-python",
   "name": "python",
   "nbconvert_exporter": "python",
   "pygments_lexer": "ipython3",
   "version": "3.8.5"
  }
 },
 "nbformat": 4,
 "nbformat_minor": 4
}
